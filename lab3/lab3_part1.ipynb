{
 "metadata": {
  "name": "",
  "signature": "sha256:536808485732a8a1e475153c3259fffc7b0d415c982fc9ab585b391e34113a7d"
 },
 "nbformat": 3,
 "nbformat_minor": 0,
 "worksheets": [
  {
   "cells": [
    {
     "cell_type": "markdown",
     "metadata": {},
     "source": [
      "# Lab 3: Bayesian PCA (Part 1)\n",
      "\n",
      "### Machine Learning: Principles and Methods, March 2015\n",
      "\n",
      "* The lab exercises should be made in groups of two people.\n",
      "* The deadline for part 1 is Sunday, 22 March, 23:59.\n",
      "* Assignment should be sent to D.P.Kingma at uva dot nl (Durk Kingma). The subject line of your email should be \"[MLPM2015] lab3part1_lastname1\\_lastname2\". \n",
      "* Put your and your teammates' names in the body of the email\n",
      "* Attach the .IPYNB (IPython Notebook) file containing your code and answers. Naming of the file follows the same rule as the subject line. For example, if the subject line is \"[MLPM2013] lab01\\_Kingma\\_Hu\", the attached file should be \"lab0\\_Kingma\\_Hu.ipynb\". Only use underscores (\"\\_\") to connect names, otherwise the files cannot be parsed.\n",
      "\n",
      "Notes on implementation:\n",
      "\n",
      "* You should write your code and answers in an IPython Notebook: http://ipython.org/notebook.html. If you have problems, please contact us.\n",
      "* Among the first lines of your notebook should be \"%pylab inline\". This imports all required modules, and your plots will appear inline.\n",
      "* NOTE: test your code and make sure we can run your notebook / scripts!"
     ]
    },
    {
     "cell_type": "markdown",
     "metadata": {},
     "source": [
      "### Introduction\n",
      "\n",
      "In this lab assignment, we will implement a variational algorithm for Bayesian PCA. Unlike regular PCA based on maximization of retained variance or minimization of projection error (see Bishop, 12.1.1 and 12.1.2), probabilistic PCA defines a proper density model over observed and latent variables. We will work with a fully Bayesian model this time, which is to say that we will put priors on our parameters and will be interested in learning the posterior over those parameters. Bayesian methods are very elegant, but require a shift in mindset: we are no longer looking for a point estimate of the parameters (as in maximum likelihood or MAP), but for a full posterior distribution.\n",
      "\n",
      "The integrals involved in a Bayesian analysis are usually analytically intractable, so that we must resort to approximations. In this lab assignment, we will implement the variational method described in Bishop99. Chapters 10 and 12 of the PRML book contain additional material that may be useful when doing this exercise.\n",
      "\n",
      "* [Bishop99] Variational Principal Components, C. Bishop, ICANN 1999 - http://research.microsoft.com/pubs/67241/bishop-vpca-icann-99.pdf\n",
      "\n",
      "Below, you will find some code to get you started."
     ]
    },
    {
     "cell_type": "code",
     "collapsed": false,
     "input": [
      "%pylab inline\n",
      "import scipy.special as sp\n",
      "\n",
      "class BayesianPCA(object):\n",
      "    \n",
      "    def __init__(self, d, N, a_alpha=10e-3, b_alpha=10e-3, a_tau=10e-3, b_tau=10e-3, beta=10e-3):\n",
      "        \"\"\"\n",
      "        \"\"\"\n",
      "        self.d = d # number of dimensions\n",
      "        self.N = N # number of data points\n",
      "        \n",
      "        # Hyperparameters\n",
      "        self.a_alpha = a_alpha\n",
      "        self.b_alpha = b_alpha\n",
      "        self.a_tau = a_tau\n",
      "        self.b_tau = b_tau\n",
      "        self.beta = beta\n",
      "\n",
      "        # Variational parameters\n",
      "        self.means_z = np.random.randn(d, N) # called x in bishop99\n",
      "        self.sigma_z = np.random.randn(d, d)\n",
      "        self.mean_mu = np.random.randn(d, 1)\n",
      "        self.sigma_mu = np.random.randn(d, d)\n",
      "        self.means_w = np.random.randn(d, d)\n",
      "        self.sigma_w = np.random.randn(d, d)\n",
      "        self.a_alpha_tilde = np.abs(np.random.randn(1))\n",
      "        self.bs_alpha_tilde = np.abs(np.random.randn(d, 1))\n",
      "        self.a_tau_tilde = np.abs(np.random.randn(1))\n",
      "        self.b_tau_tilde = np.abs(np.random.randn(1))\n",
      "    \n",
      "    def __update_z(self, X):\n",
      "        pass\n",
      "    \n",
      "    def __update_mu(self):\n",
      "        pass\n",
      "    \n",
      "    def __update_w(self, X):\n",
      "        pass\n",
      "    \n",
      "    def __update_alpha(self):\n",
      "        pass\n",
      "\n",
      "    def __update_tau(self, X):\n",
      "        pass\n",
      "\n",
      "    def L(self, X):\n",
      "        L = 0.0\n",
      "        return L\n",
      "    \n",
      "    def fit(self, X):\n",
      "        pass"
     ],
     "language": "python",
     "metadata": {},
     "outputs": [
      {
       "output_type": "stream",
       "stream": "stdout",
       "text": [
        "Populating the interactive namespace from numpy and matplotlib\n"
       ]
      }
     ],
     "prompt_number": 1
    },
    {
     "cell_type": "markdown",
     "metadata": {},
     "source": [
      "### 1. The Q-distribution (5 points)\n",
      "\n",
      "In variational Bayes, we introduce a distribution $Q(\\Theta)$ over parameters / latent variables in order to make inference tractable. We can think of $Q$ as being an approximation of a certain distribution. What function does $Q$ approximate, $p(D|\\Theta)$, $p(\\Theta|D)$, $p(D, \\Theta)$, $p(\\Theta)$, or $p(D)$, and how do you see that from the equation $\\ln p(D) = \\mathcal{L}(Q) + \\mathrm{KL}(Q||P)$? (Hint: see eq. 11 in Bishop99)"
     ]
    },
    {
     "cell_type": "markdown",
     "metadata": {},
     "source": [
      "**Answer**: \"*...distribution Q(\u03b8) which, as we shall see shortly, provides an approximation to the true posterior distribution.*\" Bishop99. So Q approximates $p(\\Theta|D)$. "
     ]
    },
    {
     "cell_type": "markdown",
     "metadata": {},
     "source": [
      "### 2. The mean-field approximation (15 points)\n",
      "\n",
      "Equation 13 from [Bishop99] is a very powerful result: assuming only that $Q(\\Theta)$ factorizes in a certain way (no assumptions on the functional form of the factors $Q_i$!), we get a set of coupled equations for the $Q_i$.\n",
      "\n",
      "However, the expression given in eq. 13 for Q_i contains a small mistake. Starting with the expression for the lower bound $\\mathcal{L}(Q)$, derive the correct expression (and include your derivation). You can proceed as follows: \n",
      "\n",
      "- first, substitute the factorization of $Q$ (eq. 12) into the definition of $\\mathcal{L}(Q)$ \n",
      "- and separate $\\mathcal{L}(Q)$ into $Q_i$-dependent and $Q_i$-independent terms. \n",
      "- At this point, you should be able to spot the expectations $\\langle\\cdot\\rangle_{k \\neq i}$ over the other $Q$-distributions that appear in Bishop's solution (eq. 13). \n",
      "- Now, keeping all $Q_k, k \\neq i$ fixed, maximize the expression with respect to $Q_i$. \n",
      "- You should be able to spot the form of the optimal $ln Q_i$, from which $Q_i$ can easily be obtained.\n"
     ]
    },
    {
     "cell_type": "markdown",
     "metadata": {},
     "source": [
      "**Answer**:\n",
      "$$\n",
      "\\newcommand{\\vthe}{\\mathbf{\\boldsymbol{\\theta}}}\n",
      "\\newcommand{\\valpha}{\\mathbf{\\boldsymbol{\\alpha}}}\n",
      "\\newcommand{\\vmu}{\\mathbf{\\boldsymbol{\\mu}}}\n",
      "\\newcommand{\\L}{\\mathcal{L}}\n",
      "\\newcommand{\\matr}[1]{\\mathbf{#1}}\n",
      "\\renewcommand{\\X}{\\matr{X}}\n",
      "\\newcommand{\\Z}{\\matr{Z}}\n",
      "\\newcommand{\\I}{\\matr{I}}\n",
      "\\newcommand{\\N}{\\mathcal{N}}\n",
      "\\newcommand{\\W}{\\matr{W}}\n",
      "\\newcommand{\\w}{\\matr{w}}\n",
      "\\newcommand{\\x}{\\matr{x}}\n",
      "\\newcommand{\\z}{\\matr{z}}\n",
      "\\newcommand{\\zero}{\\matr{0}}\n",
      "\\renewcommand{\\m}{\\matr{m}}\n",
      "\\newcommand{\\prodN}{\\prod^{N}_{n=1}}\n",
      "\\newcommand{\\Sig}{\\matr{\\Sigma}}\n",
      "$$\n",
      "\\begin{align}\n",
      "\\L(Q) =& \\int Q(\\vthe) \\ln \\frac{P(D,\\vthe)}{Q(\\vthe)} d\\vthe\\\\\n",
      "Q(\\vthe) =& \\prod_{i} Q_i(\\theta_i)\n",
      "\\end{align}\n",
      "Substituting 2 into 1:"
     ]
    },
    {
     "cell_type": "markdown",
     "metadata": {},
     "source": [
      "\\begin{align}\n",
      "\\L(Q)=& \\int \\left[ \\prod_{k} Q_k(\\theta_k) \\right] \\ln \\frac{P(D,\\vthe)}{\\prod_{j} Q_j(\\theta_j)} d\\vthe \\\\\n",
      "=& \\int \\left[  \\prod_{k} Q_k(\\theta_k)  \\right] \\left( \\ln P(D,\\vthe) - \\sum_{j} \\ln  Q_j(\\theta_j) \\right)  d\\vthe \\\\\n",
      "=& \\int  Q_i(\\theta_i) \\left[ \\int \\ln P(D,\\vthe) \\prod_{k \\neq i} Q_k(\\theta_k) d\\theta_k \\right] d\\theta_i - \\int Q_i(\\theta_i) d\\theta_i + \\text{const} \\\\\n",
      "=& \\int  Q_i(\\theta_i)  \\langle \\ln P(D,\\vthe) \\rangle_{k \\neq i} d\\theta_i - \\int Q_i(\\theta_i) d\\theta_i + \\text{const}\n",
      "\\end{align}"
     ]
    },
    {
     "cell_type": "markdown",
     "metadata": {},
     "source": [
      "This is the negative Kullback-Leibler divergence between $Q_i(\\theta_i)$ and  $\\langle \\ln P(D,\\vthe) \\rangle_{k \\neq i}$, so to maximise $\\L(Q)$ we minimize the KL divergence. This occurs when  $\\ln Q_i(\\theta_i) = \\langle \\ln P(D,\\vthe) \\rangle_{k \\neq i} + \\text{const}$, so we can define the form for the optimal $ln Q_i$:\n",
      "\\begin{align}\n",
      "\\ln Q_i^{\\star}(\\theta_i)  = \\langle \\ln P(D,\\vthe) \\rangle_{k \\neq i} + \\text{const}\n",
      "\\end{align}"
     ]
    },
    {
     "cell_type": "markdown",
     "metadata": {},
     "source": [
      "From this, $Q_i^{\\star}(\\theta_i)$ can be easily obtained by taking the exp of the right hand side and normalizing:\n",
      "\\begin{align}\n",
      "Q_i^{\\star}(\\theta_i)  = \\frac{\\exp \\langle \\ln P(D,\\vthe) \\rangle_{k \\neq i}}{\\int \\exp \\langle \\ln P(D,\\vthe) \\rangle_{k \\neq i} d \\vthe_i}\n",
      "\\end{align}"
     ]
    },
    {
     "cell_type": "markdown",
     "metadata": {},
     "source": [
      "### 3. The log-probability (10 points)\n",
      "\n",
      "Write down the log-prob of data and parameters, $\\ln p(\\mathbf{X}, \\mathbf{Z}, \\mathbf{W}, \\mathbf{\\alpha}, \\tau, \\mathbf{\\mu})$, in full detail (where $\\mathbf{X}$ are observed, $\\mathbf{Z}$ is latent; this is different from [Bishop99] who uses $\\mathbf{T}$ and $\\mathbf{X}$ respectively, but $\\mathbf{X}$ and $\\mathbf{Z}$ are consistent with the PRML book and are more common nowadays). \n",
      "\n",
      "**\n",
      "Could we use this to assess the convergence of the variational Bayesian PCA algorithm? If yes, how? If no, why not?\n",
      "**\n",
      "# DO THIS ^"
     ]
    },
    {
     "cell_type": "markdown",
     "metadata": {},
     "source": [
      "\\begin{align}\n",
      "\\ln p(\\X, \\Z, \\W, \\valpha, \\tau, \\vmu) =\\ln p(\\valpha)+ \\ln p(\\vmu)+ \\ln p(\\tau) + \\ln p(\\W | \\valpha)+ \\sum^N_{n=1} \\ln p(\\z_n)+ \\ln p(\\x_n|\\z_n, \\W, \\tau, \\vmu) \\\\\n",
      "\\\\\n",
      "= \\sum^{q}_{i=1} \\ln \\Gamma(\\alpha_i | a,b) \n",
      "  + \\ln N(\\vmu|\\zero, \\beta^{-1}\\I)\n",
      "  + \\ln \\Gamma(\\tau|c,d)\n",
      "  + \\sum^{q}_{i=1} \\ln \\left[ \\left(\\frac{\\alpha_i}{2\\pi}\\right)^{d/2} (-\\frac{1}{2} \\alpha_i ||\\w_i||^2) \\right]\n",
      "  + \\sum^N_{n=1} \\left[\n",
      "      \\ln \\N(\\z_n | \\zero, \\I)\n",
      "    + \\ln \\N(\\x_n | \\W\\z_n + \\vmu, \\tau^{-1}\\I)\n",
      "  \\right]\n",
      "\\end{align}"
     ]
    },
    {
     "cell_type": "markdown",
     "metadata": {},
     "source": [
      "### 4. The lower bound $\\mathcal{L}(Q)$ (25 points)\n",
      "\n",
      "Derive an expression for the lower bound $\\mathcal{L}(Q)$ of the log-prob $\\ln p(X)$ for Bayesian PCA, making use of the factorization (eq. 12) and the form of the Q-distributions (eq. 16-20) as listed in [Bishop99]. Show your steps. Implement this function.\n",
      "\n",
      "The following result may be useful:\n",
      "\n",
      "For $x \\sim \\Gamma(a,b)$, we have $\\langle \\ln x\\rangle = \\ln b + \\psi(a)$, where $\\psi(a) = \\frac{\\Gamma'(a)}{\\Gamma(a)}$ is the digamma function (which is implemented in numpy.special)."
     ]
    },
    {
     "cell_type": "markdown",
     "metadata": {},
     "source": [
      "reeks expectations, 15 punten voor expectations, 10 punten voor implemtnation equations expenden in som van onderdelen. expectation mbt parameters die in die onderdelen staan. iets met entropy"
     ]
    },
    {
     "cell_type": "markdown",
     "metadata": {},
     "source": [
      "\\begin{align}\n",
      "\\L(Q) &= \\int Q(\\vthe) \\frac{\\ln(D,\\vthe)}{Q(\\vthe)}d\\vthe \\\\\n",
      "&= \\int \\left[ \\prod_{k} Q_k(\\theta_k) \\right] \\left[\\ln(P(D,\\vthe)) - \\sum_{j} \\ln( Q_j(\\theta_j)) \\right] d\\vthe \\\\\n",
      "&=\\int\\left[\\prod_{k} Q_k(\\theta_k) \\right] \\left[\\left(\n",
      "  \\sum^{q}_{i=1} \\ln \\Gamma(\\alpha_i | a,b) \n",
      "  + \\ln \\N(\\vmu | \\zero, \\beta^{-1}\\I)\n",
      "  + \\ln \\Gamma(\\tau|c,d)\n",
      "  + \\sum^{q}_{i=1} \\ln \\left[ \\left(\\frac{\\alpha_i}{2\\pi}\\right)^{d/2} (-\\frac{1}{2} \\alpha_i ||\\w_i||^2) \\right]\n",
      "  + \\sum^N_{n=1} \\left[\n",
      "      \\ln \\N(\\z_n | \\zero, \\I)\n",
      "    + \\ln \\N(\\x_n | \\W\\z_n + \\vmu, \\tau^{-1}\\I)\n",
      "  \\right]\n",
      "\\right) - \\sum_{j} \\ln( Q_j(\\theta_j)) \\right] d\\vthe \\\\\n",
      "\\end{align}"
     ]
    },
    {
     "cell_type": "markdown",
     "metadata": {},
     "source": [
      "\\begin{align}\n",
      "\\prod_{k} Q_k(\\theta_k) &= Q(\\Z)Q(\\vmu)Q(\\W)Q(\\valpha)Q(\\tau) \\\\\n",
      "&= \n",
      "    \\left[\\prodN \\N(\\z_n | \\m_\\z^{(n)}, \\Sig_\\z)\\right]\n",
      "    \\N(\\vmu|\\m_\\vmu,\\Sig_\\vmu)\n",
      "    \\left[ \\prod^{D}_{k=1} \\N(\\tilde{\\w}_k | \\m_w^{(k)} \\Sig_\\w) \\right]\n",
      "    \\left[ \\prod^{q}_{i=1} \\Gamma(\\alpha_i|\\tilde{a},\\tilde{b}_i) \\right]\n",
      "    \\Gamma(\\tau | \\tilde{c}, \\tilde{d}) \\\\\n",
      "\\sum_{k} \\ln Q_k(\\theta_k) &=           \n",
      "    \\sum^{N} \\left[ \\ln \\N(\\z_n | \\m_\\z^{(n)}, \\Sig_\\z)\\right]\n",
      "    + \\ln \\N(\\vmu|\\m_\\vmu,\\Sig_\\vmu)\n",
      "    + \\sum^{D} \\left[ \\ln_{k=1} \\N(\\tilde{\\w}_k | \\m_w^{(k)} \\Sig_\\w) \\right]\n",
      "    + \\sum^{q} \\left[ \\ln_{i=1} \\Gamma(\\alpha_i|\\tilde{a},\\tilde{b}_i) \\right]\n",
      "    + \\ln \\Gamma(\\tau | \\tilde{c}, \\tilde{d}) \\\\\n",
      "\\end{align}"
     ]
    },
    {
     "cell_type": "markdown",
     "metadata": {},
     "source": [
      "\\begin{align}\n",
      "\\L(Q) &= \\int\\left[\n",
      "    \\prod_{k} Q_k(\\theta_k)\n",
      "  \\right] \n",
      "  \\left[\n",
      "  \\left(\n",
      "      \\sum^{q}_{i=1} \\ln \\Gamma(\\alpha_i | a,b) \n",
      "      + \\ln \\N(\\vmu | \\zero, \\beta^{-1}\\I)\n",
      "      + \\ln \\Gamma(\\tau|c,d)\n",
      "      + \\sum^{q}_{i=1} \\ln \\left[ \\left(\\frac{\\alpha_i}{2\\pi}\\right)^{d/2} (-\\frac{1}{2} \\alpha_i ||\\w_i||^2) \\right]\n",
      "      + \\sum^N_{n=1} \\left[\n",
      "          \\ln \\N(\\z_n | \\zero, \\I)\n",
      "        + \\ln \\N(\\x_n | \\W\\z_n + \\vmu, \\tau^{-1}\\I)\n",
      "      \\right]\n",
      "  \\right) - \\left(\n",
      "      \\sum^{N} \\left[ \\ln \\N(\\z_n | \\m_\\z^{(n)}, \\Sig_\\z)\\right]\n",
      "    + \\ln \\N(\\vmu|\\m_\\vmu,\\Sig_\\vmu)\n",
      "    + \\sum^{D}_{k=1} \\left[ \\ln \\N(\\tilde{\\w}_k | \\m_w^{(k)} \\Sig_\\w) \\right]\n",
      "    + \\sum^{q}_{i=1} \\left[ \\ln \\Gamma(\\alpha_i|\\tilde{a},\\tilde{b}_i) \\right]\n",
      "    + \\ln \\Gamma(\\tau | \\tilde{c}, \\tilde{d})\n",
      "  \\right) \\right] d\\Z d\\vmu d\\W d\\valpha d\\tau \\\\\n",
      "\\L(Q) &= \\int\\left[\n",
      "    \\prod_{k} Q_k(\\theta_k)\n",
      "  \\right] \n",
      "  \\left[\n",
      "      \\left[\\sum^{q}_{i=1} \\ln \\Gamma(\\alpha_i | a,b) -  \\ln \\Gamma(\\alpha_i|\\tilde{a},\\tilde{b}_i) \\right]\n",
      "      + \\ln \\N(\\vmu | \\zero, \\beta^{-1}\\I) - \\ln \\N(\\vmu|\\m_\\vmu,\\Sig_\\vmu)\n",
      "      + \\ln \\Gamma(\\tau|c,d) - \\ln \\Gamma(\\tau | \\tilde{c}, \\tilde{d})\n",
      "      + \\sum^{q}_{i=1} \\ln \\left[ \\left(\\frac{\\alpha_i}{2\\pi}\\right)^{d/2} (-\\frac{1}{2} \\alpha_i ||\\w_i||^2) \\right]\n",
      "        - \\sum^{D}_{k=1} \\left[ \\ln \\N(\\tilde{\\w}_k | \\m_w^{(k)} \\Sig_\\w) \\right]\n",
      "      + \\sum^N_{n=1} \\left[\n",
      "          \\ln \\N(\\z_n | \\zero, \\I) -  \\left[ \\ln \\N(\\z_n | \\m_\\z^{(n)}, \\Sig_\\z)\\right]\n",
      "        + \\ln \\N(\\x_n | \\W\\z_n + \\vmu, \\tau^{-1}\\I) - \\ln \\N(\\vmu|\\m_\\vmu,\\Sig_\\vmu)\n",
      "      \\right]\n",
      "  \\right] d\\Z d\\vmu d\\W d\\valpha d\\tau \\\\\n",
      "\\end{align}"
     ]
    },
    {
     "cell_type": "code",
     "collapsed": false,
     "input": [
      "Volgende stap: Pak hierin de losse expectations. Los deze op. Dit zijn de antwoorden. "
     ],
     "language": "python",
     "metadata": {},
     "outputs": []
    },
    {
     "cell_type": "code",
     "collapsed": false,
     "input": [],
     "language": "python",
     "metadata": {},
     "outputs": []
    }
   ],
   "metadata": {}
  }
 ]
}